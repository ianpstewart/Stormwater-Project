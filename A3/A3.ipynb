{
 "cells": [
  {
   "cell_type": "markdown",
   "metadata": {},
   "source": [
    "## Flow Path Information\n",
    "\n",
    "| Basin Area (mi<sup>2</sup>) | Basin Area (ac) |\n",
    "| --- | --- |\n",
    "| 0.00703125 | 4.50 |\n",
    "\n",
    "\n",
    "| Flow Path | Length |\n",
    "| --- | --- |\n",
    "| 1 | 286.7 |\n",
    "| 2 | 627.5 |\n",
    "| 3 | 747.3 |\n",
    "| 4 | 845.3 |\n",
    "| 5 | 452.7 |\n",
    "\n"
   ]
  },
  {
   "cell_type": "code",
   "execution_count": 10,
   "metadata": {},
   "outputs": [],
   "source": [
    "import pandas as pd\n",
    "import matplotlib.pyplot as plt\n",
    "import numpy as np\n",
    "import math\n",
    "\n",
    "concentrations = pd.read_excel(\"Travel Times.xlsx\", sheet_name=[0, 1, 2])"
   ]
  },
  {
   "cell_type": "code",
   "execution_count": 11,
   "metadata": {},
   "outputs": [],
   "source": [
    "year2 = [concentrations[0]['t1'][0], concentrations[0]['t2'][0], concentrations[0]['t3'][0], concentrations[0]['t4'][0], concentrations[0]['t5'][0]]\n",
    "year10 = [concentrations[1]['t1'][0], concentrations[1]['t2'][0], concentrations[1]['t3'][0], concentrations[1]['t4'][0], concentrations[1]['t5'][0]]\n",
    "year100 = [concentrations[2]['t1'][0], concentrations[2]['t2'][0], concentrations[2]['t3'][0], concentrations[2]['t4'][0], concentrations[2]['t5'][0]]"
   ]
  },
  {
   "cell_type": "code",
   "execution_count": 12,
   "metadata": {},
   "outputs": [],
   "source": [
    "#Time of concentrations\n",
    "toc2 = max(year2)\n",
    "toc10 = max(year10)\n",
    "toc100 = max(year100)"
   ]
  },
  {
   "cell_type": "code",
   "execution_count": 13,
   "metadata": {},
   "outputs": [],
   "source": [
    "#tl\n",
    "tl2 = 0.6 * toc2\n",
    "tl10 = 0.6 * toc10\n",
    "tl100 = 0.6 * toc100\n",
    "\n",
    "#tr and area in sq. mi.\n",
    "tr = 0.1\n",
    "a = 0.00703125"
   ]
  },
  {
   "cell_type": "code",
   "execution_count": 14,
   "metadata": {},
   "outputs": [],
   "source": [
    "#tp\n",
    "tp2 = (tr/2) + tl2\n",
    "tp10 = (tr/2) + tl10\n",
    "tp100 = (tr/2) + tl100"
   ]
  },
  {
   "cell_type": "code",
   "execution_count": 15,
   "metadata": {},
   "outputs": [],
   "source": [
    "qup2 = 484 * a/tp2\n",
    "qup10 = 484 * a/tp10\n",
    "qup100 = 484 * a/tp100"
   ]
  },
  {
   "cell_type": "markdown",
   "metadata": {},
   "source": [
    "## Runoff Hydrographs"
   ]
  },
  {
   "cell_type": "code",
   "execution_count": 16,
   "metadata": {},
   "outputs": [],
   "source": [
    "data = pd.read_excel(\"Travel Times.xlsx\", sheet_name=3)\n",
    "dataAll = pd.DataFrame(data)\n",
    "\n",
    "times = dataAll['t']\n",
    "ququp = dataAll['qu/qup'][dataAll['qu/qup'].notna()]\n",
    "qu2 = qup2 * ququp\n",
    "qu10 = qup10 * ququp\n",
    "qu100 = qup100 * ququp\n",
    "\n",
    "effective2 = dataAll['year2'][dataAll['year2'].notna()]\n",
    "effective10 = dataAll['year10'][dataAll['year10'].notna()]\n",
    "effective100 = dataAll['year100'][dataAll['year100'].notna()]\n",
    "\n",
    "\n",
    "discharge2 = []\n",
    "for val in effective2:\n",
    "    discharge2.append(qu2 * val)  \n",
    "    \n",
    "discharge10 = []\n",
    "for val in effective10:\n",
    "    discharge10.append(qu10 * val)   \n",
    "\n",
    "discharge100 = []\n",
    "for val in effective100:\n",
    "    discharge100.append(qu100 * val)   \n",
    "    \n",
    "discharge2 = pd.DataFrame(discharge2)   \n",
    "discharge2 = discharge2.values.tolist()\n",
    "\n",
    "discharge10 = pd.DataFrame(discharge10)   \n",
    "discharge10 = discharge10.values.tolist()\n",
    "\n",
    "discharge100 = pd.DataFrame(discharge100)   \n",
    "discharge100 = discharge100.values.tolist()\n"
   ]
  },
  {
   "cell_type": "code",
   "execution_count": 17,
   "metadata": {},
   "outputs": [],
   "source": [
    "sum2 = 1500 * [0]\n",
    "for index, col in enumerate(discharge2):\n",
    "    offset = round(index/10, 1)\n",
    "    #print('the offset is', offset) #this value is where the runoff begins\n",
    "    for timeIndex, val in enumerate(times):\n",
    "        if round(val, 1) == offset:\n",
    "            start = timeIndex\n",
    "            #print('this one starts adding at ', start)           \n",
    "               \n",
    "    for step, q in enumerate(col):\n",
    "        #print(sum2[start + step] + q, 'was added at ', start + step)\n",
    "        sum2[start + step] = sum2[start + step] + q\n",
    "        #print('done with row', index)\n",
    "    \n",
    "    #print('time ', timeIndex+step, 'is ', sum[timeIndex+step])         \n",
    "sum2 = sum2[0:len(times)]  \n",
    "\n",
    "sum10 = 1500 * [0]\n",
    "for index, col in enumerate(discharge10):\n",
    "    offset = round(index/10, 1)\n",
    "    #print('the offset is', offset) #this value is where the runoff begins\n",
    "    for timeIndex, val in enumerate(times):\n",
    "        if round(val, 1) == offset:\n",
    "            start = timeIndex\n",
    "            #print('this one starts adding at ', start)           \n",
    "               \n",
    "    for step, q in enumerate(col):\n",
    "        #print(sum10[start + step] + q, 'was added at ', start + step)\n",
    "        sum10[start + step] = sum10[start + step] + q\n",
    "        #print('done with row', index)\n",
    "    \n",
    "    #print('time ', timeIndex+step, 'is ', sum[timeIndex+step])         \n",
    "sum10 = sum10[0:len(times)] \n",
    "\n",
    "sum100 = 1500 * [0]\n",
    "for index, col in enumerate(discharge100):\n",
    "    offset = round(index/10, 1)\n",
    "    #print('the offset is', offset) #this value is where the runoff begins\n",
    "    for timeIndex, val in enumerate(times):\n",
    "        if round(val, 1) == offset:\n",
    "            start = timeIndex\n",
    "            #print('this one starts adding at ', start)           \n",
    "               \n",
    "    for step, q in enumerate(col):\n",
    "        #print(sum100[start + step] + q, 'was added at ', start + step)\n",
    "        sum100[start + step] = sum100[start + step] + q\n",
    "        #print('done with row', index)\n",
    "    \n",
    "    #print('time ', timeIndex+step, 'is ', sum[timeIndex+step])\n",
    "            \n",
    "sum100 = sum100[0:len(times)] "
   ]
  },
  {
   "cell_type": "code",
   "execution_count": 18,
   "metadata": {},
   "outputs": [
    {
     "data": {
      "image/png": "[encoded data removed]",
      "text/plain": [
       "<Figure size 432x288 with 1 Axes>"
      ]
     },
     "metadata": {
      "needs_background": "light"
     },
     "output_type": "display_data"
    },
    {
     "data": {
      "image/png": "[encoded data removed]",
      "text/plain": [
       "<Figure size 432x288 with 1 Axes>"
      ]
     },
     "metadata": {
      "needs_background": "light"
     },
     "output_type": "display_data"
    },
    {
     "data": {
      "image/png": "[encoded data removed]",
      "text/plain": [
       "<Figure size 432x288 with 1 Axes>"
      ]
     },
     "metadata": {
      "needs_background": "light"
     },
     "output_type": "display_data"
    }
   ],
   "source": [
    "plt.figure();\n",
    "plt.plot(times, sum2)\n",
    "plt.title('Pre-Development Runoff Hydrograph 2 Year');\n",
    "plt.xlabel('Time [hr]');\n",
    "plt.ylabel(\"Q (cfs)\");\n",
    "\n",
    "plt.figure();\n",
    "plt.plot(times, sum10)\n",
    "plt.title('Pre-Development Runoff Hydrograph 10 Year');\n",
    "plt.xlabel('Time [hr]');\n",
    "plt.ylabel(\"Q (cfs)\");\n",
    "\n",
    "\n",
    "plt.figure();\n",
    "plt.plot(times, sum100)\n",
    "plt.title('Pre-Development Runoff Hydrograph 100 Year');\n",
    "plt.xlabel('Time [hr]');\n",
    "plt.ylabel(\"Q (cfs)\");"
   ]
  },
  {
   "cell_type": "code",
   "execution_count": null,
   "metadata": {},
   "outputs": [],
   "source": []
  }
 ],
 "metadata": {
  "kernelspec": {
   "display_name": "Python 3",
   "language": "python",
   "name": "python3"
  },
  "language_info": {
   "codemirror_mode": {
    "name": "ipython",
    "version": 3
   },
   "file_extension": ".py",
   "mimetype": "text/x-python",
   "name": "python",
   "nbconvert_exporter": "python",
   "pygments_lexer": "ipython3",
   "version": "3.8.3"
  }
 },
 "nbformat": 4,
 "nbformat_minor": 4
}
